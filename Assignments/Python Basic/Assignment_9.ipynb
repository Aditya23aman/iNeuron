{
 "cells": [
  {
   "cell_type": "markdown",
   "id": "5525478f",
   "metadata": {},
   "source": [
    "**1.** To what does a relative path refer?"
   ]
  },
  {
   "cell_type": "markdown",
   "id": "8bc1ff21",
   "metadata": {},
   "source": [
    "**Answer:** <br>\n",
    "Relative path are refered relative to current working directory. Can be found using `pwd()`,`pathlib.Path.cwd()`or `os.getcwd()`.\n",
    "<hr>"
   ]
  },
  {
   "cell_type": "markdown",
   "id": "bca93ded",
   "metadata": {},
   "source": [
    "**2.** What does an absolute path start with your operating system?"
   ]
  },
  {
   "cell_type": "markdown",
   "id": "7ac4f2af",
   "metadata": {},
   "source": [
    "**Answer:** <br>\n",
    "It starts from drive name. `C:\\` or `D:\\`.\n",
    "<hr>"
   ]
  },
  {
   "cell_type": "markdown",
   "id": "519c9878",
   "metadata": {},
   "source": [
    "**3.** What do the functions os.getcwd() and os.chdir() do?"
   ]
  },
  {
   "cell_type": "markdown",
   "id": "1beddc1a",
   "metadata": {},
   "source": [
    "**Answer:** <br>\n",
    "os.getcwd() gives the path to the current working directory.<br>\n",
    "os.chdir() chance the working diectory to the agrument provided.<br>\n",
    "<hr>"
   ]
  },
  {
   "cell_type": "markdown",
   "id": "a7aa2914",
   "metadata": {},
   "source": [
    "**4.** What are the . and .. folders?"
   ]
  },
  {
   "cell_type": "markdown",
   "id": "1711c239",
   "metadata": {},
   "source": [
    "**Answer:** <br>\n",
    "'.' refers to the current directory or folder. <br>\n",
    "'..' refers to the parent diectory of the current folder. \n",
    "<hr>"
   ]
  },
  {
   "cell_type": "markdown",
   "id": "9ee0e389",
   "metadata": {},
   "source": [
    "**5.** In C:\\bacon\\eggs\\spam.txt, which part is the dir name, and which part is the base name?"
   ]
  },
  {
   "cell_type": "markdown",
   "id": "c9e2840d",
   "metadata": {},
   "source": [
    "**Answer:** <br>\n",
    "In C:\\bacon\\eggs\\spam.txt, dir name is C:\\bacon\\eggs\\ <br>\n",
    "base name is spam.txt. <br>\n",
    "<hr>"
   ]
  },
  {
   "cell_type": "markdown",
   "id": "a4266023",
   "metadata": {},
   "source": [
    "**6.** What are the three “mode” arguments that can be passed to the open() function?"
   ]
  },
  {
   "cell_type": "markdown",
   "id": "d2d4393b",
   "metadata": {},
   "source": [
    "**Answer:** <br>\n",
    "open() function can be used in:\n",
    "- read mode : 'r'\n",
    "- write mode : 'w'\n",
    "- append mode : 'a'\n",
    "<hr>"
   ]
  },
  {
   "cell_type": "markdown",
   "id": "52461da0",
   "metadata": {},
   "source": [
    "**7.** What happens if an existing file is opened in write mode?"
   ]
  },
  {
   "cell_type": "markdown",
   "id": "46957c39",
   "metadata": {},
   "source": [
    "**Answer:** <br>\n",
    "An existing file is opened in write mode is opened with cursor at the beginning and can be overwritten.\n",
    "<hr>"
   ]
  },
  {
   "cell_type": "markdown",
   "id": "a730e17c",
   "metadata": {},
   "source": [
    "**8.** How do you tell the difference between read() and readlines()?"
   ]
  },
  {
   "cell_type": "markdown",
   "id": "2ceaab9c",
   "metadata": {},
   "source": [
    "**Answer:** <br>\n",
    "`read()` method returns content of the file as a single string. `readlines()` returns a list of strings, where each string is a line from the file’s contents. <br>\n",
    "<hr>"
   ]
  },
  {
   "cell_type": "markdown",
   "id": "15fde881",
   "metadata": {},
   "source": [
    "**9.** What data structure does a shelf value resemble?"
   ]
  },
  {
   "cell_type": "markdown",
   "id": "1ccbde6a",
   "metadata": {},
   "source": [
    "**Answer:** <br>\n",
    "shelve value resemble a dictionaty data structure as it store data in key and value pairs. \n",
    "<br>"
   ]
  },
  {
   "cell_type": "code",
   "execution_count": null,
   "id": "784358f5",
   "metadata": {},
   "outputs": [],
   "source": []
  }
 ],
 "metadata": {
  "kernelspec": {
   "display_name": "Python 3 (ipykernel)",
   "language": "python",
   "name": "python3"
  },
  "language_info": {
   "codemirror_mode": {
    "name": "ipython",
    "version": 3
   },
   "file_extension": ".py",
   "mimetype": "text/x-python",
   "name": "python",
   "nbconvert_exporter": "python",
   "pygments_lexer": "ipython3",
   "version": "3.9.13"
  }
 },
 "nbformat": 4,
 "nbformat_minor": 5
}
