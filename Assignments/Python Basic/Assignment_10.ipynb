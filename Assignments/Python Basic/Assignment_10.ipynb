{
 "cells": [
  {
   "cell_type": "markdown",
   "id": "99a36e70",
   "metadata": {},
   "source": [
    "**1.** How do you distinguish between shutil.copy() and shutil.copytree()?"
   ]
  },
  {
   "cell_type": "markdown",
   "id": "ddfe6d04",
   "metadata": {},
   "source": [
    "**Answer:** <br>\n",
    "`shutil.cpy('<path to file>', '<destination>')` copies only the file to the destination folder. <br>\n",
    "`shutil.cpytree('<source_folder>', '<destination_folder>')` copies all the files and sub folders on the source to destination. \n",
    "<hr>"
   ]
  },
  {
   "cell_type": "markdown",
   "id": "ce555b59",
   "metadata": {},
   "source": [
    "**2.** What function is used to rename files??"
   ]
  },
  {
   "cell_type": "markdown",
   "id": "1090981b",
   "metadata": {},
   "source": [
    "**Answer:** <br> \n",
    "`shutil.move('filename', 'new_filename')` is used to rename files. if the second argument to `shutil.move()` doesnot exist, first argument will be renamed. \n",
    "<hr>"
   ]
  },
  {
   "cell_type": "markdown",
   "id": "4162b9b7",
   "metadata": {},
   "source": [
    "**3.** What is the difference between the delete functions in the send2trash and shutil modules?"
   ]
  },
  {
   "cell_type": "markdown",
   "id": "41a16bed",
   "metadata": {},
   "source": [
    "**Answer:** <br>\n",
    "The delete functions in the send2trash module i.e. `send2trash.send2trash(path)` sends the filename at path to recycle bin while delete functions in shutil module will permanently delete files or folders.\n",
    "<hr>"
   ]
  },
  {
   "cell_type": "markdown",
   "id": "3b7b888d",
   "metadata": {},
   "source": [
    "**4.** ZipFile objects have a close() method just like File objects’ close() method. What ZipFile method is equivalent to File objects’ open() method?"
   ]
  },
  {
   "cell_type": "markdown",
   "id": "94b5aa16",
   "metadata": {},
   "source": [
    "**Answer:** <br>\n",
    "`zipfile.Zipfile()` is equivalent to `open()` function.\n",
    "<hr>"
   ]
  },
  {
   "cell_type": "markdown",
   "id": "365156a4",
   "metadata": {},
   "source": [
    "**5.** Create a programme that searches a folder tree for files with a certain file extension (such as .pdf or .jpg). Copy these files from whatever location they are in to a new folder."
   ]
  },
  {
   "cell_type": "markdown",
   "id": "0ea571db",
   "metadata": {},
   "source": [
    "**Answer:**<br>\n",
    "```python\n",
    "#This program searches for all txt and jpg files in folder tree provided by user and move them into C:\\new_folder\n",
    "\n",
    "import shutil,os,pathlib,pyinputplus as pyip\n",
    "\n",
    "#asking the user for the folder tree\n",
    "folderTree = pyip.inputFilepath(\"Enter the folder tree: \")\n",
    "\n",
    "#walking a folder tree\n",
    "for foldername in os.walk(folderTree):\n",
    "    p = pathlib.Path(foldername)\n",
    "    \n",
    "    #generating list of all txt and pdf files\n",
    "    txts = p.glob('*.txt')\n",
    "    jpgs = p.glob('*.pdf')\n",
    "    \n",
    "    #moving all txt files to new_folder\n",
    "    for filenames in txts:\n",
    "        shutil.move(filenames, 'C:\\\\new_folder')\n",
    "    \n",
    "    #moving all txt files to new_folder\n",
    "    for filenames in jpgs:\n",
    "        shutil.move(filenames, 'C:\\\\new_folder')\n",
    "        \n",
    "```\n",
    "<hr>"
   ]
  },
  {
   "cell_type": "code",
   "execution_count": null,
   "id": "534c518e",
   "metadata": {},
   "outputs": [],
   "source": []
  }
 ],
 "metadata": {
  "kernelspec": {
   "display_name": "Python 3 (ipykernel)",
   "language": "python",
   "name": "python3"
  },
  "language_info": {
   "codemirror_mode": {
    "name": "ipython",
    "version": 3
   },
   "file_extension": ".py",
   "mimetype": "text/x-python",
   "name": "python",
   "nbconvert_exporter": "python",
   "pygments_lexer": "ipython3",
   "version": "3.9.13"
  }
 },
 "nbformat": 4,
 "nbformat_minor": 5
}
