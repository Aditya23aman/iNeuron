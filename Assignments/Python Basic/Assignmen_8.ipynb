{
 "cells": [
  {
   "cell_type": "markdown",
   "id": "c6a9e99a",
   "metadata": {},
   "source": [
    "***1.*** Is the Python Standard Library included with PyInputPlus?"
   ]
  },
  {
   "cell_type": "markdown",
   "id": "31470764",
   "metadata": {},
   "source": [
    "***Answer:***<br>\n",
    "No, PylnputPlus doesn't comes with standard library and have to be installed like other third party modules.<br>\n",
    "<hr>"
   ]
  },
  {
   "cell_type": "markdown",
   "id": "a92e3cbf",
   "metadata": {},
   "source": [
    "***2.*** Why is PyInputPlus commonly imported with import pyinputplus as pypi?"
   ]
  },
  {
   "cell_type": "markdown",
   "id": "0b3ea15a",
   "metadata": {},
   "source": [
    "***Answer:***<br>\n",
    "PyInputPlus is imported with import pyinputplus as pypi to make it easier to type in the fuction names of this module.<br>\n",
    "`pyinputplus.inputStr()` is more work than to type `pyip.inputStr()`.\n",
    "<hr>"
   ]
  },
  {
   "cell_type": "markdown",
   "id": "c85986f2",
   "metadata": {},
   "source": [
    "***3.*** How do you distinguish between inputInt() and inputFloat()?"
   ]
  },
  {
   "cell_type": "markdown",
   "id": "554b88a3",
   "metadata": {},
   "source": [
    "***Answer:***<br>\n",
    "inputInt() returns Integers values according the input giving by the user. inputFloat() returns floating point value of decimal size of 1 place, if an int value is entered by default.\n",
    "<hr>"
   ]
  },
  {
   "cell_type": "markdown",
   "id": "fe832137",
   "metadata": {},
   "source": [
    "***4.*** Using PyInputPlus, how do you ensure that the user enters a whole number between 0 and 99?"
   ]
  },
  {
   "cell_type": "markdown",
   "id": "d00386f0",
   "metadata": {},
   "source": [
    "***Answer:***<br>\n",
    "using greaterThan and lessthan keywords of the inputInt() function.\n",
    "```python\n",
    "num = pyip.inputInt(\"Number: \", lessThan = 99, greaterThan = 0)\n",
    "```\n",
    "<hr>"
   ]
  },
  {
   "cell_type": "markdown",
   "id": "7da77b25",
   "metadata": {},
   "source": [
    "***5.*** What is transferred to the keyword arguments allowRegexes and blockRegexes?"
   ]
  },
  {
   "cell_type": "markdown",
   "id": "64c171a8",
   "metadata": {},
   "source": [
    "***Answer:***<br>\n",
    "All the allowed regular expressions are passed in `allowRegexes` as a list of regular expressions. Similiarly, regular expressions that are not allowed are passed as a list to `blockRegexes`. <hr>\n"
   ]
  },
  {
   "cell_type": "markdown",
   "id": "64fd94c9",
   "metadata": {},
   "source": [
    "***6.*** If a blank input is entered three times, what does inputStr(limit=3) do?"
   ]
  },
  {
   "cell_type": "markdown",
   "id": "14ca352d",
   "metadata": {},
   "source": [
    "***Answer:***<br>\n",
    "It will raise a `RetryLimitException` after 3 tries. \n",
    "<hr>"
   ]
  },
  {
   "cell_type": "markdown",
   "id": "47dc57f9",
   "metadata": {},
   "source": [
    "***7.*** If blank input is entered three times, what does inputStr(limit=3, default='hello') do?"
   ]
  },
  {
   "cell_type": "markdown",
   "id": "de0cf144",
   "metadata": {},
   "source": [
    "***Answer:***<br>\n",
    "'hello' is passed as a return value. No exceptions are raised. \n",
    "<hr>"
   ]
  },
  {
   "cell_type": "code",
   "execution_count": null,
   "id": "7f726eae",
   "metadata": {},
   "outputs": [],
   "source": []
  }
 ],
 "metadata": {
  "kernelspec": {
   "display_name": "Python 3 (ipykernel)",
   "language": "python",
   "name": "python3"
  },
  "language_info": {
   "codemirror_mode": {
    "name": "ipython",
    "version": 3
   },
   "file_extension": ".py",
   "mimetype": "text/x-python",
   "name": "python",
   "nbconvert_exporter": "python",
   "pygments_lexer": "ipython3",
   "version": "3.9.13"
  }
 },
 "nbformat": 4,
 "nbformat_minor": 5
}
