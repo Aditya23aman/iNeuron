{
 "cells": [
  {
   "cell_type": "markdown",
   "id": "b86d99b5",
   "metadata": {},
   "source": [
    "**1.** What is the name of the feature responsible for generating Regex objects?"
   ]
  },
  {
   "cell_type": "markdown",
   "id": "829fee8c",
   "metadata": {},
   "source": [
    "**Answer:** <br>\n",
    "`re.compile()`is used to creating Regex objects. <br><br>\n",
    "_Example_:\n",
    "```python\n",
    "genderRegex = re.compile(r'(fe)?male')\n",
    "```\n",
    "<hr>"
   ]
  },
  {
   "cell_type": "markdown",
   "id": "91eed27b",
   "metadata": {},
   "source": [
    "**2** Why do raw strings often appear in Regex objects?"
   ]
  },
  {
   "cell_type": "markdown",
   "id": "487e8735",
   "metadata": {},
   "source": [
    "**Answer:**<br>\n",
    "Regex objects used a lot of backslash `\\` symbol for instance with `\\d`. So, to avoid using another backslash to escape the \\ symbols we use the raw string.<br>\n",
    "_Example:_<br>\n",
    "```python\n",
    "x = re.compile('\\\\d\\\\s\\\\w+')\n",
    "y = re.compile(r'\\d\\d\\w+')\n",
    "```\n",
    "Here both x & y represent same regex object.\n",
    "\n",
    "<hr>\n"
   ]
  },
  {
   "cell_type": "markdown",
   "id": "fb4e226e",
   "metadata": {},
   "source": [
    "**3.** What is the return value of the search() method?"
   ]
  },
  {
   "cell_type": "markdown",
   "id": "7b62a51a",
   "metadata": {},
   "source": [
    "**Answer:**<br>\n",
    "search() method of a regex object returns a match object of strings of the first matching instance of the regular expression. <br>\n",
    "_Example_\n",
    "```python\n",
    "x = re.compile(r'((\\d\\d\\d)\\sg)')\n",
    "mo = x.search(\"The weight is 165 g and 156 g\")\n",
    "mo.groups()\n",
    "```\n",
    "Groups is as ('165 g', '165')\n",
    "<hr>"
   ]
  },
  {
   "cell_type": "markdown",
   "id": "56d78d95",
   "metadata": {},
   "source": [
    "**4.** From a Match item, how do you get the actual strings that match the pattern?"
   ]
  },
  {
   "cell_type": "markdown",
   "id": "3d0bf616",
   "metadata": {},
   "source": [
    "***Answer:***<br>\n",
    "group() method of the match item gives the actual strings that match the regex patten.<br>\n",
    "<hr>"
   ]
  },
  {
   "cell_type": "markdown",
   "id": "b9bc33f4",
   "metadata": {},
   "source": [
    "***5.*** In the regex which created from the r&#39;(\\d\\d\\d)-(\\d\\d\\d-\\d\\d\\d\\d)&#39;, what does group zero cover?\n",
    "Group 2? Group 1?"
   ]
  },
  {
   "cell_type": "markdown",
   "id": "4a720d6b",
   "metadata": {},
   "source": [
    "Group 0 gives the entire match, group 1 gives the first \\d\\d\\d in the first parentheses, \n",
    "and group 2 gives (\\d\\d\\d-\\d\\d\\d\\d) in the second set of parentheses.<br>\n",
    "<hr>\n"
   ]
  },
  {
   "cell_type": "markdown",
   "id": "9fc8ba4e",
   "metadata": {},
   "source": [
    "**6.** In standard expression syntax, parentheses and intervals have distinct meanings. How can you tell\n",
    "a regex that you want it to fit real parentheses and periods?"
   ]
  },
  {
   "cell_type": "markdown",
   "id": "5c865855",
   "metadata": {},
   "source": [
    "***Answer: *** <br>\n",
    "Parentheses '),(' and intervals '.' can disticted using escape character '\\\\'.<br>\n",
    "-Example:_<br>\n",
    "```python\n",
    "x = re.compile(r'www /. google /.(com)')\n",
    "```\n",
    "<hr>"
   ]
  },
  {
   "cell_type": "markdown",
   "id": "ed03334a",
   "metadata": {},
   "source": [
    "**7.** The findall() method returns a string list or a list of string tuples. What causes it to return one of\n",
    "the two options? "
   ]
  },
  {
   "cell_type": "markdown",
   "id": "bc0070a6",
   "metadata": {},
   "source": [
    "**Answer:** <br>\n",
    "findall() returns a list of strings when theres in grouping with parentheses in the regex. Whereas if grouping used in the regex, findall() returns  a list of tuples containing string of all the groups in the matched string.\n",
    "<hr>"
   ]
  },
  {
   "cell_type": "markdown",
   "id": "efa62024",
   "metadata": {},
   "source": [
    "**8.** In standard expressions, what does the | character mean?"
   ]
  },
  {
   "cell_type": "markdown",
   "id": "ff72e041",
   "metadata": {},
   "source": [
    "**Answer:** <br>\n",
    "'|' the pipe character is used to set a number of expressions of which anyone should be matched.<br>\n",
    "_Examaple:_<br>\n",
    "` x = re.compile(r' air(plane|fryer|con)` searches for either airplane or airfryer or aircon. <br>\n",
    "<hr>"
   ]
  },
  {
   "cell_type": "markdown",
   "id": "bd6a46e0",
   "metadata": {},
   "source": [
    "**9.** In regular expressions, what does the character stand for?"
   ]
  },
  {
   "cell_type": "markdown",
   "id": "ff6ceb96",
   "metadata": {},
   "source": [
    "***Answer: *** <br> \n",
    "Every character symbolises different type of string in a regular expressions.<br>\n",
    "<hr>"
   ]
  },
  {
   "cell_type": "markdown",
   "id": "53cf5370",
   "metadata": {},
   "source": [
    "***10.*** In regular expressions, what is the difference between the + and * characters?"
   ]
  },
  {
   "cell_type": "markdown",
   "id": "c886d7fc",
   "metadata": {},
   "source": [
    "***Answer:*** <br>\n",
    "'*' signifies 0 or more while '+' signifies 1 or more.\n",
    "<hr>"
   ]
  },
  {
   "cell_type": "markdown",
   "id": "1c979293",
   "metadata": {},
   "source": [
    "***11.*** What is the difference between {4} and {4,5} in regular expression?"
   ]
  },
  {
   "cell_type": "markdown",
   "id": "8fdc5af2",
   "metadata": {},
   "source": [
    "***Answer:***<br>\n",
    "{4} means exactly 4 times repeatation of the pattern. {4,5} means 4 to 5 times repeatation of pattern.\n",
    "<hr>"
   ]
  },
  {
   "cell_type": "markdown",
   "id": "6bca64c8",
   "metadata": {},
   "source": [
    "**12.** What do you mean by the \\d, \\w, and \\s shorthand character classes signify in regular\n",
    "expressions?<br>"
   ]
  },
  {
   "cell_type": "markdown",
   "id": "2d4af862",
   "metadata": {},
   "source": [
    "***Answer:***<br>\n",
    "\n",
    "| Character Class | Significance |\n",
    "| --- | ---|\n",
    "| \\d | A digit. 0 to 9|\n",
    "| \\w | A word. All Alphabets a-z & A-Z. All digits 0-9 and underscore|\n",
    "| \\s | A white space. empty ' '|\n",
    "\n",
    "<hr>"
   ]
  },
  {
   "cell_type": "markdown",
   "id": "270ca0de",
   "metadata": {},
   "source": [
    "**13.** What do means by \\D, \\W, and \\S shorthand character classes signify in regular expressions?"
   ]
  },
  {
   "cell_type": "markdown",
   "id": "9f0549fb",
   "metadata": {},
   "source": [
    "***Answer:***<br>\n",
    "\n",
    "| Character Class | Significance |\n",
    "| --- | ---|\n",
    "| \\D | Anything that is not a digit. 0 to 9|\n",
    "| \\W | Anything that is not a word. All Alphabets a-z & A-Z. All digits 0-9 and underscore|\n",
    "| \\S | Anything that is not a white space. empty ' '|\n",
    "\n",
    "<hr>\n",
    "    "
   ]
  },
  {
   "cell_type": "markdown",
   "id": "9fd08949",
   "metadata": {},
   "source": [
    "**14.** What is the difference between .\\*? and .\\* ?"
   ]
  },
  {
   "cell_type": "markdown",
   "id": "f976fa81",
   "metadata": {},
   "source": [
    "**Answer:**<br>\n",
    ".\\* means a greedy matching where the largest match will be given. <br>\n",
    ".\\*? means a non-greedy match which will give the smallest match.<br>\n",
    "_Expample:_<br>\n",
    "Suppose we search the string `\"##123##345##\"` <br>\n",
    "`r'##.*##'` will give \"##123##345## <br>\n",
    "`r'##.*?##'` will give \"##123##\n",
    "<hr>"
   ]
  },
  {
   "cell_type": "markdown",
   "id": "97d38695",
   "metadata": {},
   "source": [
    "**15.** What is the syntax for matching both numbers and lowercase letters with a character class?"
   ]
  },
  {
   "cell_type": "markdown",
   "id": "21336185",
   "metadata": {},
   "source": [
    "***Answer:***<br>\n",
    "```[a-z0-9]```\n",
    "<hr>"
   ]
  },
  {
   "cell_type": "markdown",
   "id": "1a23deb4",
   "metadata": {},
   "source": [
    "***16.*** What is the procedure for making a normal expression in regax case insensitive?"
   ]
  },
  {
   "cell_type": "markdown",
   "id": "e29b21a4",
   "metadata": {},
   "source": [
    "***Answer:***<br>\n",
    "re.IGNORECASE argument of the compile method is used to make a normal expression in regax case insensitive. It can be shorthanded as re.I too. <br>\n",
    "```python\n",
    "greatx = re.compile(r'great', re.IGNORECASE)\n",
    "```\n",
    "<hr>               "
   ]
  },
  {
   "cell_type": "markdown",
   "id": "2a506804",
   "metadata": {},
   "source": [
    "**17.** What does the . character normally match? What does it match if re.DOTALL is passed as 2nd\n",
    "argument in re.compile()?"
   ]
  },
  {
   "cell_type": "markdown",
   "id": "11033d52",
   "metadata": {},
   "source": [
    "***Answer:***<br>\n",
    ". character matches everything except for a new line. With DOTALL argument it matches ecerything including the newline.\n",
    "<hr>\n",
    "    "
   ]
  },
  {
   "cell_type": "markdown",
   "id": "d13e67e9",
   "metadata": {},
   "source": [
    "**18.** If numReg = re.compile(r&#39;\\d+&#39;), what will numRegex.sub(&#39;X&#39;, &#39;11 drummers, 10 pipers, five rings, 4\n",
    "hen&#39;) return?"
   ]
  },
  {
   "cell_type": "markdown",
   "id": "295a95d3",
   "metadata": {},
   "source": [
    "***Answer:*** <br>\n",
    "It returns ` X drummers, X pipers, five rings, X hen`\n",
    "<hr>\n",
    "    "
   ]
  },
  {
   "cell_type": "markdown",
   "id": "96fc6998",
   "metadata": {},
   "source": [
    "***19.*** What does passing re.VERBOSE as the 2nd argument to re.compile() allow to do?"
   ]
  },
  {
   "cell_type": "markdown",
   "id": "e91064d3",
   "metadata": {},
   "source": [
    "***Answer:***<br>\n",
    "re.VERBOSE toggle the verbose mode in the regular expression which allows to ignore whitespace, new lines and comments.\n",
    "<hr>"
   ]
  },
  {
   "cell_type": "markdown",
   "id": "62e5eb89",
   "metadata": {},
   "source": [
    "***20.*** How would you write a regex that match a number with comma for every three digits? It must\n",
    "match the given following:"
   ]
  },
  {
   "cell_type": "markdown",
   "id": "71f4b7ae",
   "metadata": {},
   "source": [
    "***Answer:***<br>\n",
    "\n",
    "\n",
    "|Pattern|re|\n",
    "|---|---|\n",
    "|42| `r'\\d\\d'`|\n",
    "|1,234| `r'\\d,\\d{3}'`|\n",
    "|6,368,743| `r'\\d,\\d{3},\\d{3}`|\n",
    "\n",
    "\n",
    "one expression to match all: `r'(\\d{1,3})(,\\d{3})*$'`\n",
    "<hr>"
   ]
  },
  {
   "cell_type": "markdown",
   "id": "87da4fcd",
   "metadata": {},
   "source": [
    "**21.** How would you write a regex that matches the full name of someone whose last name is\n",
    "Watanabe? You can assume that the first name that comes before it will always be one word that\n",
    "begins with a capital letter. The regex must match the following:<br>\n",
    "- &#39;Haruto Watanabe&#39;\n",
    "- &#39;Alice Watanabe&#39;\n",
    "- &#39;RoboCop Watanabe&#39;<br>\n",
    "but not the following:<br>\n",
    "- &#39;haruto Watanabe&#39; (where the first name is not capitalized)\n",
    "- &#39;Mr. Watanabe&#39; (where the preceding word has a nonletter character)\n",
    "- &#39;Watanabe&#39; (which has no first name)\n",
    "- &#39;Haruto watanabe&#39; (where Watanabe is not capitalized)"
   ]
  },
  {
   "cell_type": "markdown",
   "id": "6756b733",
   "metadata": {},
   "source": [
    "***Answer:***<br>\n",
    "```python\n",
    "watanabeRe = re.compile(r'''(\n",
    "([A-Z]  #First letter should be Capitaliszes\n",
    "[a-z]*)+  #Rest of the name. No nonlettercharacter\n",
    "\\s #Space seperating First and Last name\n",
    "Watanabe)\n",
    "''', re.VERBOSE)\n",
    "```\n",
    "<hr>\n",
    "                      \n",
    "\n"
   ]
  },
  {
   "cell_type": "markdown",
   "id": "7dc7da6b",
   "metadata": {},
   "source": [
    "**22.** How would you write a regex that matches a sentence where the first word is either Alice, Bob,\n",
    "or Carol; the second word is either eats, pets, or throws; the third word is apples, cats, or baseballs;\n",
    "and the sentence ends with a period? This regex should be case-insensitive. It must match the\n",
    "following:<br>\n",
    "- &#39;Alice eats apples.&#39;\n",
    "- &#39;Carol throws baseballs.&#39;\n",
    "- &#39;Bob pets cats.&#39;\n",
    "- &#39;Carol throws baseballs.&#39;\n",
    "- &#39;Carol throws baseballs.&#39;\n",
    "- &#39;Carol throws baseballs.&#39;\n",
    "- &#39;Alice throws Apples.&#39;\n",
    "- &#39;BOB EATS CATS.&#39;<br>\n",
    "but not the following:<br>\n",
    "- &#39;RoboCop eats apples.&#39;\n",
    "- &#39;ALICE THROWS FOOTBALLS.&#39;\n",
    "- &#39;Carol eats 7 cats.&#39;"
   ]
  },
  {
   "cell_type": "markdown",
   "id": "8e0b0d8a",
   "metadata": {},
   "source": [
    "***Answer:***<br>\n",
    "```python\n",
    "q22regex = re.compile(r'''\n",
    "(Alex|Bob|Carol)+ # first word is either Alice, Bob\n",
    "\\s #space\n",
    "(eats|pets|throws)+ #second word is either eats, pets, or throws\n",
    "\\s #space\n",
    "(apples|cats|baseballs)+ #apples, cats, or baseballs\n",
    "\\s\n",
    "\\\\. # the sentence ends with a period\n",
    "''', re.IGNORECASE | re.VERBOSE)\n",
    "```\n",
    "\n",
    "<hr>"
   ]
  },
  {
   "cell_type": "code",
   "execution_count": null,
   "id": "fb0f4706",
   "metadata": {},
   "outputs": [],
   "source": []
  }
 ],
 "metadata": {
  "kernelspec": {
   "display_name": "Python 3 (ipykernel)",
   "language": "python",
   "name": "python3"
  },
  "language_info": {
   "codemirror_mode": {
    "name": "ipython",
    "version": 3
   },
   "file_extension": ".py",
   "mimetype": "text/x-python",
   "name": "python",
   "nbconvert_exporter": "python",
   "pygments_lexer": "ipython3",
   "version": "3.9.13"
  }
 },
 "nbformat": 4,
 "nbformat_minor": 5
}
